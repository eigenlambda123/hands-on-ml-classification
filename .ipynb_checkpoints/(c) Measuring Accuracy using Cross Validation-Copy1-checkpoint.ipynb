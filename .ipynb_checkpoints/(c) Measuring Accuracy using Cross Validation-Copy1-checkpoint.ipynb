{
 "cells": [
  {
   "cell_type": "markdown",
   "id": "13ce22bd-b282-4b7b-9730-f60fb1394c81",
   "metadata": {},
   "source": [
    "### **Load and Test-Train Split the Data**"
   ]
  },
  {
   "cell_type": "code",
   "execution_count": 1,
   "id": "f8aca184-429d-4733-a700-fa352b4e16a8",
   "metadata": {},
   "outputs": [],
   "source": [
    "from sklearn.datasets import fetch_openml\n",
    "mnist = fetch_openml('mnist_784', as_frame=False)\n",
    "X, y = mnist.data, mnist.target\n",
    "X_train, X_test, y_train, y_test = X[:60000], X[60000:], y[:60000], y[60000:]"
   ]
  },
  {
   "cell_type": "markdown",
   "id": "c8904a3f-672a-48c0-b1a3-3df66ada0520",
   "metadata": {},
   "source": [
    "### **Train a Binary Classifier**"
   ]
  },
  {
   "cell_type": "code",
   "execution_count": 2,
   "id": "a36c81ee-26c7-4321-a0d0-1205edd1563f",
   "metadata": {},
   "outputs": [
    {
     "data": {
      "text/plain": [
       "array([ True])"
      ]
     },
     "execution_count": 2,
     "metadata": {},
     "output_type": "execute_result"
    }
   ],
   "source": [
    "from sklearn.linear_model import SGDClassifier\n",
    "y_train_5 = (y_train == '5')\n",
    "y_test_5 = (y_test == '5')\n",
    "sgd_clf = SGDClassifier(random_state=42)\n",
    "sgd_clf.fit(X_train, y_train_5)\n",
    "some_digit = X[0]\n",
    "sgd_clf.predict([some_digit])"
   ]
  },
  {
   "cell_type": "markdown",
   "id": "b4d327ab-2869-418d-9712-595175a92f0d",
   "metadata": {},
   "source": [
    "---\n",
    "### Step 1: Evaluate Accuracy with Cross-Validation\n",
    "\n",
    "* Use 3-fold cross-validation to get a more reliable estimate of your model’s accuracy:\n",
    "* That looks great (95%+ accuracy), but..."
   ]
  },
  {
   "cell_type": "code",
   "execution_count": 5,
   "id": "694cf840-72d1-4f0f-98bb-fe02a64a19a4",
   "metadata": {},
   "outputs": [
    {
     "name": "stdout",
     "output_type": "stream",
     "text": [
      "Cross-validation scores: [0.95035 0.96035 0.9604 ]\n"
     ]
    }
   ],
   "source": [
    "from sklearn.model_selection import cross_val_score\n",
    "\n",
    "scores = cross_val_score(sgd_clf, X_train, y_train_5, cv=3, scoring=\"accuracy\")\n",
    "print(\"Cross-validation scores:\", scores)"
   ]
  },
  {
   "cell_type": "markdown",
   "id": "78554235-1d13-48c9-b7e6-89ebe5616672",
   "metadata": {},
   "source": [
    "### Step 2: Test with a Baseline (Dummy Classifier)\n",
    "\n",
    "* Now test a model that just always predicts “not 5” (i.e., the most common class):\n",
    "* This shows that **91%** accuracy is possible without predicting a single \"5\" — accuracy alone is not trustworthy on imbalanced data.\n",
    "*  Even though it makes zero useful predictions, it still achieves ~91% accuracy\n",
    "because only ~10% of the training images are 5s!"
   ]
  },
  {
   "cell_type": "code",
   "execution_count": 6,
   "id": "c80a5e24-1fe1-4b4b-bf65-51fc71b3356f",
   "metadata": {},
   "outputs": [
    {
     "name": "stdout",
     "output_type": "stream",
     "text": [
      "Dummy classifier scores: [0.90965 0.90965 0.90965]\n"
     ]
    }
   ],
   "source": [
    "from sklearn.dummy import DummyClassifier\n",
    "\n",
    "dummy_clf = DummyClassifier(strategy=\"most_frequent\")\n",
    "dummy_clf.fit(X_train, y_train_5)\n",
    "dummy_scores = cross_val_score(dummy_clf, X_train, y_train_5, cv=3, scoring=\"accuracy\")\n",
    "print(\"Dummy classifier scores:\", dummy_scores)"
   ]
  },
  {
   "cell_type": "markdown",
   "id": "aec589e4-aae6-42fa-83d8-858f4e134ab4",
   "metadata": {},
   "source": [
    "### Step 3 (Optional): Manual Cross-Validation with StratifiedKFold"
   ]
  },
  {
   "cell_type": "code",
   "execution_count": 7,
   "id": "f08a5559-98fd-4324-ab17-46bb1059230f",
   "metadata": {},
   "outputs": [
    {
     "name": "stdout",
     "output_type": "stream",
     "text": [
      "Manual fold accuracy: 0.9669\n",
      "Manual fold accuracy: 0.91625\n",
      "Manual fold accuracy: 0.96785\n"
     ]
    }
   ],
   "source": [
    "from sklearn.model_selection import StratifiedKFold\n",
    "from sklearn.base import clone\n",
    "\n",
    "skfolds = StratifiedKFold(n_splits=3, shuffle=True, random_state=42)\n",
    "\n",
    "for train_idx, test_idx in skfolds.split(X_train, y_train_5):\n",
    "    clone_clf = clone(sgd_clf)\n",
    "    X_train_folds = X_train[train_idx]\n",
    "    y_train_folds = y_train_5[train_idx]\n",
    "    X_test_fold = X_train[test_idx]\n",
    "    y_test_fold = y_train_5[test_idx]\n",
    "    \n",
    "    clone_clf.fit(X_train_folds, y_train_folds)\n",
    "    y_pred = clone_clf.predict(X_test_fold)\n",
    "    \n",
    "    accuracy = sum(y_pred == y_test_fold) / len(y_pred)\n",
    "    print(\"Manual fold accuracy:\", accuracy)"
   ]
  }
 ],
 "metadata": {
  "kernelspec": {
   "display_name": "Python 3 (ipykernel)",
   "language": "python",
   "name": "python3"
  },
  "language_info": {
   "codemirror_mode": {
    "name": "ipython",
    "version": 3
   },
   "file_extension": ".py",
   "mimetype": "text/x-python",
   "name": "python",
   "nbconvert_exporter": "python",
   "pygments_lexer": "ipython3",
   "version": "3.12.6"
  }
 },
 "nbformat": 4,
 "nbformat_minor": 5
}
