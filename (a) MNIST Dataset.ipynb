{
 "cells": [
  {
   "cell_type": "markdown",
   "id": "1f6f9cd1-fbb9-4373-a6d1-8a7a5d1a3ee6",
   "metadata": {},
   "source": [
    "# **MNIST Dataset**\n",
    "\n",
    "The **MNIST dataset** is a classic benchmark in machine learning, often called the “hello world” of classification. It consists of **70,000 images of handwritten digits (0–9)** written by high school students and US Census Bureau employees.\n",
    "\n",
    "Each image:\n",
    "\n",
    "- Is grayscale and sized **28×28 pixels**\n",
    "- Is flattened into a **784-dimensional vector**\n",
    "- Has a label from **0 to 9**"
   ]
  },
  {
   "cell_type": "markdown",
   "id": "64ce06e9-a4e1-463b-a782-cbd1ae910e37",
   "metadata": {},
   "source": [
    "### **Loading MNIST in Scikit-Learn**"
   ]
  },
  {
   "cell_type": "code",
   "execution_count": 13,
   "id": "e2218373-3413-404e-8b21-b0b2f2bbb361",
   "metadata": {},
   "outputs": [
    {
     "data": {
      "text/plain": [
       "array([[0, 0, 0, ..., 0, 0, 0],\n",
       "       [0, 0, 0, ..., 0, 0, 0],\n",
       "       [0, 0, 0, ..., 0, 0, 0],\n",
       "       ...,\n",
       "       [0, 0, 0, ..., 0, 0, 0],\n",
       "       [0, 0, 0, ..., 0, 0, 0],\n",
       "       [0, 0, 0, ..., 0, 0, 0]], shape=(70000, 784))"
      ]
     },
     "execution_count": 13,
     "metadata": {},
     "output_type": "execute_result"
    }
   ],
   "source": [
    "from sklearn.datasets import fetch_openml\n",
    "mnist = fetch_openml('mnist_784', as_frame=False)\n",
    "X, y = mnist.data, mnist.target\n",
    "X"
   ]
  },
  {
   "cell_type": "markdown",
   "id": "37dfd3a9-7134-49c4-81d9-30b6ced6cc1c",
   "metadata": {},
   "source": [
    "### **Visualizing Digits**\n",
    "\n",
    "* This displays the first digit in the dataset, which should look like a \"5\"."
   ]
  },
  {
   "cell_type": "code",
   "execution_count": 14,
   "id": "22c8d41d-02f2-4e17-8c58-e59120fcaf02",
   "metadata": {},
   "outputs": [
    {
     "data": {
      "image/png": "[encoded data removed]",
      "text/plain": [
       "<Figure size 640x480 with 1 Axes>"
      ]
     },
     "metadata": {},
     "output_type": "display_data"
    }
   ],
   "source": [
    "import matplotlib.pyplot as plt\n",
    "def plot_digit(image_data):\n",
    "    image = image_data.reshape(28, 28)\n",
    "    plt.imshow(image, cmap=\"binary\")\n",
    "    plt.axis(\"off\")\n",
    "    \n",
    "some_digit = X[0]\n",
    "plot_digit(some_digit)\n",
    "plt.show()"
   ]
  },
  {
   "cell_type": "markdown",
   "id": "c4164d1a-4ee9-47c8-a8d5-822738f84544",
   "metadata": {},
   "source": [
    "### **Test-Train Split**\n",
    "\n",
    "- First **60,000 samples** → training set\n",
    "- Last **10,000 samples** → test set\n",
    "- Already **shuffled** to support fair cross-validation and better learning stability"
   ]
  },
  {
   "cell_type": "code",
   "execution_count": 15,
   "id": "b320d79d-bae1-495b-a935-42b6a1e4a147",
   "metadata": {},
   "outputs": [],
   "source": [
    "X_train, X_test, y_train, y_test = X[:60000], X[60000:], y[:60000], y[60000:]"
   ]
  },
  {
   "cell_type": "code",
   "execution_count": 16,
   "id": "23a1ae64-7a06-4a22-9914-9193cbc9550f",
   "metadata": {},
   "outputs": [],
   "source": [
    "del X_train, X_test, y_train, y_test\n"
   ]
  },
  {
   "cell_type": "code",
   "execution_count": null,
   "id": "af793d65-6b1a-4d91-9208-afa706448dc0",
   "metadata": {},
   "outputs": [],
   "source": []
  }
 ],
 "metadata": {
  "kernelspec": {
   "display_name": "Python 3 (ipykernel)",
   "language": "python",
   "name": "python3"
  },
  "language_info": {
   "codemirror_mode": {
    "name": "ipython",
    "version": 3
   },
   "file_extension": ".py",
   "mimetype": "text/x-python",
   "name": "python",
   "nbconvert_exporter": "python",
   "pygments_lexer": "ipython3",
   "version": "3.12.6"
  }
 },
 "nbformat": 4,
 "nbformat_minor": 5
}
