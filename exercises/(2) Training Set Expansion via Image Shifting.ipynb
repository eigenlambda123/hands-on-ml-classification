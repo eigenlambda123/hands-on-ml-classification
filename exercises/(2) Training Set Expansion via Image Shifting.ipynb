{
 "cells": [
  {
   "cell_type": "markdown",
   "id": "50c39cf3-8641-40a5-ae58-500ed5fb288c",
   "metadata": {},
   "source": [
    "# **Exercise**\n",
    "> Write a *function that can shift an `MNIST` image in any direction (left,\n",
    "right, up, or down) by one pixel*. Then, for each image in the training\n",
    "set, *create four shifted copies (one per direction) and add them to the\n",
    "training set*. Finally, *train your best model* on this expanded training set\n",
    "and **measure its accuracy on the test set**. You should observe that your\n",
    "model performs even better now! This technique of artificially growing\n",
    "the training set is called **data augmentation** or **training set expansion**.\n",
    "    \n",
    "---"
   ]
  },
  {
   "cell_type": "code",
   "execution_count": null,
   "id": "8d028d7f-9ec2-40d3-82c9-7cc4b741a4cc",
   "metadata": {},
   "outputs": [],
   "source": []
  }
 ],
 "metadata": {
  "kernelspec": {
   "display_name": "Python 3 (ipykernel)",
   "language": "python",
   "name": "python3"
  },
  "language_info": {
   "codemirror_mode": {
    "name": "ipython",
    "version": 3
   },
   "file_extension": ".py",
   "mimetype": "text/x-python",
   "name": "python",
   "nbconvert_exporter": "python",
   "pygments_lexer": "ipython3",
   "version": "3.12.6"
  }
 },
 "nbformat": 4,
 "nbformat_minor": 5
}
