{
 "cells": [
  {
   "cell_type": "markdown",
   "id": "e72798e8-23c3-4323-acfb-a0db9b19ac88",
   "metadata": {},
   "source": [
    "# **Exercise**\n",
    "\n",
    "> Build a **spam classifier** from scratch using a real-world **SMS dataset** (not emails).\n",
    "> train multiple classifiers, evaluate them, and compare their performance using proper metrics.\n",
    "\n",
    "### **Goal:**\n",
    "\n",
    "Train a binary classifier to predict whether an SMS message is **spam** or **ham**.\n",
    "\n",
    "1. Load and clean the dataset.\n",
    "2. Preprocess text and encode labels.\n",
    "3. Train **multiple classifiers**:\n",
    "\n",
    "   * `MultinomialNB` (baseline)\n",
    "   * `LogisticRegression`\n",
    "   * `RandomForestClassifier`\n",
    "   * `LinearSVC`\n",
    "5. Evaluate all models using:\n",
    "\n",
    "   * **Precision**\n",
    "   * **Recall**\n",
    "   * **F1-score**\n",
    "   * **Confusion Matrix**\n",
    "   * **ROC Curve**\n",
    "   * **Precision-Recall Curve**\n",
    "\n",
    "---"
   ]
  },
  {
   "cell_type": "markdown",
   "id": "60233617-6083-4fdb-a848-e94abdaf1440",
   "metadata": {},
   "source": [
    "### **Step 1:** Load the Dataset\n",
    "- We're using the **SMS Spam Collection** dataset.\n",
    "- It contains two columns: `label` (ham/spam) and `message` (text content).\n",
    "- We rename the columns for clarity."
   ]
  },
  {
   "cell_type": "code",
   "execution_count": 35,
   "id": "45051e15-246e-41d1-8e58-6937e7d2b15b",
   "metadata": {},
   "outputs": [
    {
     "data": {
      "text/html": [
       "<div>\n",
       "<style scoped>\n",
       "    .dataframe tbody tr th:only-of-type {\n",
       "        vertical-align: middle;\n",
       "    }\n",
       "\n",
       "    .dataframe tbody tr th {\n",
       "        vertical-align: top;\n",
       "    }\n",
       "\n",
       "    .dataframe thead th {\n",
       "        text-align: right;\n",
       "    }\n",
       "</style>\n",
       "<table border=\"1\" class=\"dataframe\">\n",
       "  <thead>\n",
       "    <tr style=\"text-align: right;\">\n",
       "      <th></th>\n",
       "      <th>label</th>\n",
       "      <th>message</th>\n",
       "    </tr>\n",
       "  </thead>\n",
       "  <tbody>\n",
       "    <tr>\n",
       "      <th>0</th>\n",
       "      <td>ham</td>\n",
       "      <td>Go until jurong point, crazy.. Available only ...</td>\n",
       "    </tr>\n",
       "    <tr>\n",
       "      <th>1</th>\n",
       "      <td>ham</td>\n",
       "      <td>Ok lar... Joking wif u oni...</td>\n",
       "    </tr>\n",
       "    <tr>\n",
       "      <th>2</th>\n",
       "      <td>spam</td>\n",
       "      <td>Free entry in 2 a wkly comp to win FA Cup fina...</td>\n",
       "    </tr>\n",
       "    <tr>\n",
       "      <th>3</th>\n",
       "      <td>ham</td>\n",
       "      <td>U dun say so early hor... U c already then say...</td>\n",
       "    </tr>\n",
       "    <tr>\n",
       "      <th>4</th>\n",
       "      <td>ham</td>\n",
       "      <td>Nah I don't think he goes to usf, he lives aro...</td>\n",
       "    </tr>\n",
       "  </tbody>\n",
       "</table>\n",
       "</div>"
      ],
      "text/plain": [
       "  label                                            message\n",
       "0   ham  Go until jurong point, crazy.. Available only ...\n",
       "1   ham                      Ok lar... Joking wif u oni...\n",
       "2  spam  Free entry in 2 a wkly comp to win FA Cup fina...\n",
       "3   ham  U dun say so early hor... U c already then say...\n",
       "4   ham  Nah I don't think he goes to usf, he lives aro..."
      ]
     },
     "execution_count": 35,
     "metadata": {},
     "output_type": "execute_result"
    }
   ],
   "source": [
    "import pandas as pd\n",
    "\n",
    "df = pd.read_csv(\"datasets/spam.csv\", encoding=\"latin-1\")[[\"v1\", \"v2\"]]\n",
    "df.columns = [\"label\", \"message\"]\n",
    "df.head()"
   ]
  },
  {
   "cell_type": "markdown",
   "id": "cde34324-bfc8-4465-9352-44a86fd46806",
   "metadata": {},
   "source": [
    "### **Step 2:** Encode Labels (Spam = 1, Ham = 0)\n",
    "\n",
    "Convert labels to binary:\n",
    "- `ham` → `0`\n",
    "- `spam` → `1`\n",
    "This makes it compatible with scikit-learn classifiers."
   ]
  },
  {
   "cell_type": "code",
   "execution_count": 37,
   "id": "33ccb526-1b8b-4810-a6fc-fbe66d85fa45",
   "metadata": {},
   "outputs": [
    {
     "data": {
      "text/plain": [
       "label\n",
       "0    4825\n",
       "1     747\n",
       "Name: count, dtype: int64"
      ]
     },
     "execution_count": 37,
     "metadata": {},
     "output_type": "execute_result"
    }
   ],
   "source": [
    "df[\"label\"] = df[\"label\"].map({\"ham\": 0, \"spam\": 1})\n",
    "df[\"label\"].value_counts()"
   ]
  },
  {
   "cell_type": "markdown",
   "id": "5d8feb44-2085-4dea-ba0c-12b71ced0862",
   "metadata": {},
   "source": [
    "### **Step 3:** Train-Test Split\n",
    "- `X` contains the SMS messages.\n",
    "- `y` contains spam labels.\n",
    "- Split the data: **80%** for training, **20%** for testing."
   ]
  },
  {
   "cell_type": "code",
   "execution_count": 38,
   "id": "43c5bec4-2504-4447-b446-c1068aea6418",
   "metadata": {},
   "outputs": [],
   "source": [
    "from sklearn.model_selection import train_test_split\n",
    "\n",
    "X = df[\"message\"]\n",
    "y = df[\"label\"]\n",
    "\n",
    "X_train, X_test, y_train, y_test = train_test_split(X, y, test_size=0.2, random_state=42)"
   ]
  },
  {
   "cell_type": "markdown",
   "id": "7f66a91c-5831-4d83-8542-93d6cc7d81d4",
   "metadata": {},
   "source": [
    "### **Step 4:** Text Vectorization\n",
    "- We use TF-IDF to convert text into numeric features.\n",
    "- `stop_words='english'` removes common words like \"the\", \"is\", etc.\n",
    "- `fit_transform()` learns the vocabulary from the training set."
   ]
  },
  {
   "cell_type": "code",
   "execution_count": 39,
   "id": "ecad3325-7739-4a64-a46a-2925cf2e651f",
   "metadata": {},
   "outputs": [],
   "source": [
    "from sklearn.feature_extraction.text import TfidfVectorizer\n",
    "\n",
    "vectorizer = TfidfVectorizer(stop_words='english')\n",
    "X_train_vec = vectorizer.fit_transform(X_train)\n",
    "X_test_vec = vectorizer.transform(X_test)"
   ]
  },
  {
   "cell_type": "markdown",
   "id": "e3391dca-b140-4d23-af90-ff961e020eea",
   "metadata": {},
   "source": [
    " ### **Step 5:** Train Multiple Classifiers\n",
    "Train 4 classifiers:\n",
    "\n",
    "- `MultinomialNB:` baseline for text data.\n",
    "- `LogisticRegression:` linear model.\n",
    "- `RandomForest:` ensemble method.\n",
    "- `LinearSVC:` linear support vector classifier."
   ]
  },
  {
   "cell_type": "code",
   "execution_count": 40,
   "id": "7a48775c-feb4-4318-aa2a-0f35e6786dab",
   "metadata": {},
   "outputs": [
    {
     "name": "stdout",
     "output_type": "stream",
     "text": [
      "MultinomialNB trained.\n",
      "LogisticRegression trained.\n",
      "RandomForest trained.\n",
      "LinearSVC trained.\n"
     ]
    }
   ],
   "source": [
    "from sklearn.naive_bayes import MultinomialNB\n",
    "from sklearn.linear_model import LogisticRegression\n",
    "from sklearn.ensemble import RandomForestClassifier\n",
    "from sklearn.svm import LinearSVC\n",
    "\n",
    "models = {\n",
    "    \"MultinomialNB\": MultinomialNB(),\n",
    "    \"LogisticRegression\": LogisticRegression(max_iter=1000),\n",
    "    \"RandomForest\": RandomForestClassifier(n_estimators=100),\n",
    "    \"LinearSVC\": LinearSVC()\n",
    "}\n",
    "\n",
    "for name, model in models.items():\n",
    "    model.fit(X_train_vec, y_train)\n",
    "    print(f\"{name} trained.\")"
   ]
  },
  {
   "cell_type": "markdown",
   "id": "b6a3305b-1bdd-4cf9-b3e6-948e9467a277",
   "metadata": {},
   "source": [
    "###  **Step 6:** Evaluate Classifiers\n",
    "This prints:\n",
    "\n",
    "- Confusion matrix: TP, FP, FN, TN\n",
    "- Precision, Recall, F1-Score for each class"
   ]
  },
  {
   "cell_type": "code",
   "execution_count": 42,
   "id": "38ba5dae-5297-483c-9eea-ad866f6b4a91",
   "metadata": {},
   "outputs": [
    {
     "name": "stdout",
     "output_type": "stream",
     "text": [
      "\n",
      "Evaluation for MultinomialNB\n",
      "[[965   0]\n",
      " [ 37 113]]\n",
      "              precision    recall  f1-score   support\n",
      "\n",
      "           0       0.96      1.00      0.98       965\n",
      "           1       1.00      0.75      0.86       150\n",
      "\n",
      "    accuracy                           0.97      1115\n",
      "   macro avg       0.98      0.88      0.92      1115\n",
      "weighted avg       0.97      0.97      0.96      1115\n",
      "\n",
      "\n",
      "Evaluation for LogisticRegression\n",
      "[[962   3]\n",
      " [ 50 100]]\n",
      "              precision    recall  f1-score   support\n",
      "\n",
      "           0       0.95      1.00      0.97       965\n",
      "           1       0.97      0.67      0.79       150\n",
      "\n",
      "    accuracy                           0.95      1115\n",
      "   macro avg       0.96      0.83      0.88      1115\n",
      "weighted avg       0.95      0.95      0.95      1115\n",
      "\n",
      "\n",
      "Evaluation for RandomForest\n",
      "[[964   1]\n",
      " [ 23 127]]\n",
      "              precision    recall  f1-score   support\n",
      "\n",
      "           0       0.98      1.00      0.99       965\n",
      "           1       0.99      0.85      0.91       150\n",
      "\n",
      "    accuracy                           0.98      1115\n",
      "   macro avg       0.98      0.92      0.95      1115\n",
      "weighted avg       0.98      0.98      0.98      1115\n",
      "\n",
      "\n",
      "Evaluation for LinearSVC\n",
      "[[960   5]\n",
      " [ 19 131]]\n",
      "              precision    recall  f1-score   support\n",
      "\n",
      "           0       0.98      0.99      0.99       965\n",
      "           1       0.96      0.87      0.92       150\n",
      "\n",
      "    accuracy                           0.98      1115\n",
      "   macro avg       0.97      0.93      0.95      1115\n",
      "weighted avg       0.98      0.98      0.98      1115\n",
      "\n"
     ]
    }
   ],
   "source": [
    "from sklearn.metrics import classification_report, confusion_matrix\n",
    "\n",
    "for name, model in models.items():\n",
    "    print(f\"\\nEvaluation for {name}\")\n",
    "    y_pred = model.predict(X_test_vec)\n",
    "    print(confusion_matrix(y_test, y_pred))\n",
    "    print(classification_report(y_test, y_pred))"
   ]
  },
  {
   "cell_type": "markdown",
   "id": "9a337f45-e68b-4f6a-a6d9-2e94290504c9",
   "metadata": {},
   "source": [
    "### **Step 7:** Plot ROC & PR Curves\n",
    "- **ROC Curve**: Trade-off between TPR and FPR.\n",
    "- **PR Curve**: Precision vs. Recall – useful for imbalanced data (like spam).\n",
    "\n",
    "We use `predict_proba()` or `decision_function()` depending on model type."
   ]
  },
  {
   "cell_type": "code",
   "execution_count": 43,
   "id": "24d52b8d-6b8e-4ce7-a20a-743282eafc7f",
   "metadata": {},
   "outputs": [
    {
     "data": {
      "image/png": "[encoded data removed]",
      "text/plain": [
       "<Figure size 1200x500 with 2 Axes>"
      ]
     },
     "metadata": {},
     "output_type": "display_data"
    }
   ],
   "source": [
    "from sklearn.metrics import roc_curve, auc, precision_recall_curve\n",
    "import matplotlib.pyplot as plt\n",
    "\n",
    "plt.figure(figsize=(12, 5))\n",
    "\n",
    "# ROC Curve\n",
    "plt.subplot(1, 2, 1)\n",
    "for name, model in models.items():\n",
    "    if hasattr(model, \"predict_proba\"):\n",
    "        y_scores = model.predict_proba(X_test_vec)[:, 1]\n",
    "    else:\n",
    "        y_scores = model.decision_function(X_test_vec)\n",
    "    fpr, tpr, _ = roc_curve(y_test, y_scores)\n",
    "    plt.plot(fpr, tpr, label=f\"{name} (AUC = {auc(fpr, tpr):.2f})\")\n",
    "plt.plot([0, 1], [0, 1], \"k--\")\n",
    "plt.title(\"ROC Curve\")\n",
    "plt.xlabel(\"False Positive Rate\")\n",
    "plt.ylabel(\"True Positive Rate\")\n",
    "plt.legend()\n",
    "\n",
    "# PR Curve\n",
    "plt.subplot(1, 2, 2)\n",
    "for name, model in models.items():\n",
    "    if hasattr(model, \"predict_proba\"):\n",
    "        y_scores = model.predict_proba(X_test_vec)[:, 1]\n",
    "    else:\n",
    "        y_scores = model.decision_function(X_test_vec)\n",
    "    precision, recall, _ = precision_recall_curve(y_test, y_scores)\n",
    "    plt.plot(recall, precision, label=name)\n",
    "plt.title(\"Precision-Recall Curve\")\n",
    "plt.xlabel(\"Recall\")\n",
    "plt.ylabel(\"Precision\")\n",
    "plt.legend()\n",
    "\n",
    "plt.tight_layout()\n",
    "plt.show()"
   ]
  },
  {
   "cell_type": "markdown",
   "id": "697bd149-8847-479c-a92f-66d34af1fd7b",
   "metadata": {},
   "source": [
    "---\n",
    "# **Insights**"
   ]
  },
  {
   "cell_type": "markdown",
   "id": "5c5ef1fd-cccb-4a58-a2ba-470b3624ddaa",
   "metadata": {},
   "source": [
    "### **Overall Comparison Summary**\n",
    "\n",
    "| Model                  | Accuracy | Precision (Class 1) | Recall (Class 1) | F1 (Class 1) | AUC (ROC) |\n",
    "| ---------------------- | -------- | ------------------- | ---------------- | ------------ | --------- |\n",
    "| **MultinomialNB**      | 0.97     | 1.00                | 0.75             | 0.86         | 0.98      |\n",
    "| **LogisticRegression** | 0.95     | 0.97                | 0.67             | 0.79         | 0.99      |\n",
    "| **RandomForest**       | 0.98     | 0.99                | 0.85             | 0.91         | 0.98      |\n",
    "| **LinearSVC**          | 0.98     | 0.96                | 0.87             | 0.92         | 0.99      |\n",
    "\n",
    "---\n",
    "\n",
    "### **Insights by Model**\n",
    "\n",
    "#### `MultinomialNB`\n",
    "\n",
    "* **Strengths**:\n",
    "\n",
    "  * Perfect precision (1.00) on the positive class — when it predicts spam, it's almost always right.\n",
    "  * High AUC (0.98) — excellent ranking ability overall.\n",
    "* **Weaknesses**:\n",
    "\n",
    "  * **Low recall (0.75)** on spam → it misses 25% of actual spam emails.\n",
    "  * It’s likely **conservative**, avoiding false positives at the cost of more false negatives.\n",
    "* **Interpretation**: Great when **false positives are more harmful** (e.g., marking a real email as spam is very bad), but not ideal if you want to catch *all* spam.\n",
    "\n",
    "---\n",
    "\n",
    "#### `LogisticRegression`\n",
    "\n",
    "* **Strengths**:\n",
    "\n",
    "  * High AUC (0.99), nearly perfect class separation.\n",
    "  * Good precision (0.97) on spam class.\n",
    "* **Weaknesses**:\n",
    "\n",
    "  * **Worst recall (0.67)** among all models — misses 1 in 3 spam messages.\n",
    "* **Interpretation**: Also conservative like Naive Bayes, with more emphasis on avoiding false positives. Not ideal when missing spam is costly.\n",
    "\n",
    "---\n",
    "\n",
    "#### `RandomForest`\n",
    "\n",
    "* **Strengths**:\n",
    "\n",
    "  * Very high accuracy (0.98), great precision (0.99), and much improved recall (0.85).\n",
    "  * Balanced and **robust** model.\n",
    "* **Weaknesses**:\n",
    "\n",
    "  * Slightly lower AUC (0.98) than LogisticRegression and LinearSVC — but negligible.\n",
    "* **Interpretation**: Excellent overall. Performs well in both catching spam and not flagging ham. Likely the **best compromise** between sensitivity and specificity.\n",
    "\n",
    "---\n",
    "\n",
    "#### `LinearSVC`\n",
    "\n",
    "* **Strengths**:\n",
    "\n",
    "  * Strong precision (0.96) and recall (0.87) for spam.\n",
    "  * Highest F1-score (0.92) for spam class.\n",
    "  * Tied for highest AUC (0.99).\n",
    "* **Weaknesses**:\n",
    "\n",
    "  * Slightly more false positives (5) compared to RandomForest.\n",
    "* **Interpretation**: **Most balanced** classifier. High precision and recall make it ideal for general-purpose spam detection where you care about both errors.\n",
    "\n",
    "---\n",
    "\n",
    "### **Curve-Based Insights**\n",
    "\n",
    "#### ROC Curve:\n",
    "\n",
    "* All models are very strong, with AUCs ≈ 0.98–0.99.\n",
    "* LogisticRegression and LinearSVC show the highest AUC, indicating excellent overall ranking power (how well they distinguish spam from non-spam).\n",
    "\n",
    "#### Precision-Recall Curve:\n",
    "\n",
    "* Differences become more visible:\n",
    "\n",
    "  * **LinearSVC and RandomForest** maintain high precision even at high recall levels → great for imbalanced data.\n",
    "  * **MultinomialNB** drops faster — good at confident predictions but not reliable when trying to recall more positives.\n",
    "  * **LogisticRegression** also drops early — supports its low recall stat.\n",
    "\n",
    "---\n",
    "\n",
    "### **Final Recommendations**\n",
    "\n",
    "- If we want **highest F1 (balanced spam detection)** → **LinearSVC**\n",
    "\n",
    "- If we want **lowest false positives** → **MultinomialNB**\n",
    "\n",
    "- If we want a **safe default model** → **RandomForest**\n",
    "\n",
    "- If we want **simple interpretability** → **LogisticRegression**\n"
   ]
  }
 ],
 "metadata": {
  "kernelspec": {
   "display_name": "Python 3 (ipykernel)",
   "language": "python",
   "name": "python3"
  },
  "language_info": {
   "codemirror_mode": {
    "name": "ipython",
    "version": 3
   },
   "file_extension": ".py",
   "mimetype": "text/x-python",
   "name": "python",
   "nbconvert_exporter": "python",
   "pygments_lexer": "ipython3",
   "version": "3.12.6"
  }
 },
 "nbformat": 4,
 "nbformat_minor": 5
}
