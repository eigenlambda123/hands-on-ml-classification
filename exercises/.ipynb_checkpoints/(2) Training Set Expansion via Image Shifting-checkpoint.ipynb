{
 "cells": [
  {
   "cell_type": "markdown",
   "id": "50c39cf3-8641-40a5-ae58-500ed5fb288c",
   "metadata": {},
   "source": [
    "# **Exercise**\n",
    "> Write a *function that can shift an `MNIST` image in any direction (left,\n",
    "right, up, or down) by one pixel*. Then, for each image in the training\n",
    "set, *create four shifted copies (one per direction) and add them to the\n",
    "training set*. Finally, *train your best model* on this expanded training set\n",
    "and **measure its accuracy on the test set**. You should observe that your\n",
    "model performs even better now! This technique of artificially growing\n",
    "the training set is called **data augmentation** or **training set expansion**.\n",
    "    \n",
    "---"
   ]
  },
  {
   "cell_type": "markdown",
   "id": "0ff02499-d4f9-4785-aef7-1b4235a45dd1",
   "metadata": {},
   "source": [
    "### **Step 1:** Load the MNIST dataset and Split the dataset into training and test sets\n",
    "\n",
    "We use `fetch_openml()` to load the classic MNIST dataset, which consists of 70,000 grayscale images (28×28 pixels) of handwritten digits. We also cast the labels to `uint8` to save memory and avoid type issues.\n",
    "\n",
    "The first **60,000** images are used for training, and the remaining **10,000** for testing — this is standard for `MNIST`."
   ]
  },
  {
   "cell_type": "code",
   "execution_count": 2,
   "id": "3bd58f72-d2c2-4bde-b0ab-f557562794b6",
   "metadata": {},
   "outputs": [],
   "source": [
    "from sklearn.datasets import fetch_openml\n",
    "import numpy as np\n",
    "\n",
    "mnist = fetch_openml('mnist_784', version=1, as_frame=False)\n",
    "X, y = mnist['data'], mnist['target'].astype(np.uint8)\n",
    "X_train, X_test = X[:60000], X[60000:]\n",
    "y_train, y_test = y[:60000], y[60000:]"
   ]
  },
  {
   "cell_type": "markdown",
   "id": "9af4e8b4-6524-4257-b84f-6f07585a7a73",
   "metadata": {},
   "source": [
    "### **Step 2:** Define the shift function\n",
    "This function **shifts an image by one pixel in a given direction** (`up`, `down`, `left`, or `right`). The image is reshaped to 28×28 for the operation, then flattened back to 784 (as required by scikit-learn)."
   ]
  },
  {
   "cell_type": "code",
   "execution_count": 3,
   "id": "54ce5717-eabf-4d29-9145-4775585ff9d9",
   "metadata": {},
   "outputs": [],
   "source": [
    "def shift_image(image, direction):\n",
    "    image = image.reshape(28, 28)\n",
    "    shifted = np.zeros_like(image)\n",
    "\n",
    "    if direction == 'up':\n",
    "        shifted[:-1, :] = image[1:, :]\n",
    "    elif direction == 'down':\n",
    "        shifted[1:, :] = image[:-1, :]\n",
    "    elif direction == 'left':\n",
    "        shifted[:, :-1] = image[:, 1:]\n",
    "    elif direction == 'right':\n",
    "        shifted[:, 1:] = image[:, :-1]\n",
    "\n",
    "    return shifted.reshape(784)"
   ]
  },
  {
   "cell_type": "markdown",
   "id": "acfedd27-5b34-4dc0-92bc-2fcfd8ee76b9",
   "metadata": {},
   "source": [
    "### **Step 3:** Apply shifting to every image and expand the dataset\n",
    "\n",
    "We create 4 shifted copies for every training image and concatenate them with the original training set. The label (`y`) remains the same for shifted images, since we're only transforming the inputs."
   ]
  },
  {
   "cell_type": "code",
   "execution_count": 4,
   "id": "063111be-5c3a-492b-bbfe-121d97f0639b",
   "metadata": {},
   "outputs": [],
   "source": [
    "X_augmented = [X_train]\n",
    "y_augmented = [y_train]\n",
    "\n",
    "for direction in ['up', 'down', 'left', 'right']:\n",
    "    shifted_images = np.apply_along_axis(shift_image, axis=1, arr=X_train, direction=direction)\n",
    "    X_augmented.append(shifted_images)\n",
    "    y_augmented.append(y_train)\n",
    "\n",
    "X_train_expanded = np.concatenate(X_augmented)\n",
    "y_train_expanded = np.concatenate(y_augmented)"
   ]
  },
  {
   "cell_type": "markdown",
   "id": "a905c23b-80d9-49fe-9f00-44c66e47305e",
   "metadata": {},
   "source": [
    "### **Step 5:** Train the best classifier\n",
    "We use the best hyperparameters from Exercise 1 (`KNeighborsClassifier` with `n_neighbors=4` and `weights='distance'`) to train on the expanded dataset.\n",
    "\n",
    "(**FYI**: I did not run this directly on my pc, otherwise it might explode)"
   ]
  },
  {
   "cell_type": "code",
   "execution_count": null,
   "id": "4246e9cc-2fd6-49f7-b33d-48f14786a59c",
   "metadata": {},
   "outputs": [],
   "source": [
    "from sklearn.neighbors import KNeighborsClassifier\n",
    "\n",
    "knn_clf = KNeighborsClassifier(n_neighbors=4, weights='distance')\n",
    "knn_clf.fit(X_train_expanded, y_train_expanded)"
   ]
  },
  {
   "cell_type": "markdown",
   "id": "2986059d-0561-4b7c-ae54-2209f756590e",
   "metadata": {},
   "source": [
    "###  **Step 6:** Evaluate accuracy on the original test set\n",
    "Finally, we test the model on the **original 10,000-image test set** to measure generalization. We see an improvement over Exercise 1 (which had **~97.1% accuracy**)."
   ]
  },
  {
   "cell_type": "code",
   "execution_count": null,
   "id": "43d74647-990b-4d1e-a574-9f0d504f77db",
   "metadata": {},
   "outputs": [],
   "source": [
    "from sklearn.metrics import accuracy_score\n",
    "\n",
    "y_pred = knn_clf.predict(X_test)\n",
    "accuracy_score(y_test, y_pred)"
   ]
  },
  {
   "cell_type": "markdown",
   "id": "9d6bca7c-d8cb-4955-8337-7bbe5cfa2444",
   "metadata": {},
   "source": [
    "### **Expected Result**\n",
    "By increasing the diversity of the training data (through shifting), the model should now generalize better and surpass the accuracy of the original KNN model. This is a practical example of **data augmentation**, a powerful technique to improve performance without collecting new data."
   ]
  }
 ],
 "metadata": {
  "kernelspec": {
   "display_name": "Python 3 (ipykernel)",
   "language": "python",
   "name": "python3"
  },
  "language_info": {
   "codemirror_mode": {
    "name": "ipython",
    "version": 3
   },
   "file_extension": ".py",
   "mimetype": "text/x-python",
   "name": "python",
   "nbconvert_exporter": "python",
   "pygments_lexer": "ipython3",
   "version": "3.12.6"
  }
 },
 "nbformat": 4,
 "nbformat_minor": 5
}
