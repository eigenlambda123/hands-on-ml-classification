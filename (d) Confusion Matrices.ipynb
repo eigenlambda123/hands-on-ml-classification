{
 "cells": [
  {
   "cell_type": "markdown",
   "id": "13ce22bd-b282-4b7b-9730-f60fb1394c81",
   "metadata": {},
   "source": [
    "### **Load and Test-Train Split the Data**"
   ]
  },
  {
   "cell_type": "code",
   "execution_count": null,
   "id": "f8aca184-429d-4733-a700-fa352b4e16a8",
   "metadata": {},
   "outputs": [],
   "source": [
    "from sklearn.datasets import fetch_openml\n",
    "mnist = fetch_openml('mnist_784', as_frame=False)\n",
    "X, y = mnist.data, mnist.target\n",
    "X_train, X_test, y_train, y_test = X[:60000], X[60000:], y[:60000], y[60000:]"
   ]
  },
  {
   "cell_type": "markdown",
   "id": "c8904a3f-672a-48c0-b1a3-3df66ada0520",
   "metadata": {},
   "source": [
    "### **Train a Binary Classifier**"
   ]
  },
  {
   "cell_type": "code",
   "execution_count": null,
   "id": "a36c81ee-26c7-4321-a0d0-1205edd1563f",
   "metadata": {},
   "outputs": [],
   "source": [
    "from sklearn.linear_model import SGDClassifier\n",
    "y_train_5 = (y_train == '5')\n",
    "y_test_5 = (y_test == '5')\n",
    "sgd_clf = SGDClassifier(random_state=42)\n",
    "sgd_clf.fit(X_train, y_train_5)\n",
    "some_digit = X[0]\n",
    "sgd_clf.predict([some_digit])"
   ]
  },
  {
   "cell_type": "markdown",
   "id": "b4d327ab-2869-418d-9712-595175a92f0d",
   "metadata": {},
   "source": [
    "---\n",
    "### Step 1: Get Cross-Validated Predictions\n",
    "* Use `cross_val_predict()` to generate out-of-sample predictions (i.e., each prediction is made on data not seen during training):Use 3-fold cross-validation to get a more reliable estimate of your model’s accuracy:"
   ]
  },
  {
   "cell_type": "code",
   "execution_count": null,
   "id": "694cf840-72d1-4f0f-98bb-fe02a64a19a4",
   "metadata": {},
   "outputs": [],
   "source": [
    "from sklearn.model_selection import cross_val_predict\n",
    "\n",
    "y_train_pred = cross_val_predict(sgd_clf, X_train, y_train_5, cv=3)"
   ]
  },
  {
   "cell_type": "markdown",
   "id": "78554235-1d13-48c9-b7e6-89ebe5616672",
   "metadata": {},
   "source": [
    "### Step 2: Compute the Confusion Matrix\n",
    "\n",
    "* Now compare the actual labels `(y_train_5)` with the predicted ones:"
   ]
  },
  {
   "cell_type": "code",
   "execution_count": null,
   "id": "c80a5e24-1fe1-4b4b-bf65-51fc71b3356f",
   "metadata": {},
   "outputs": [],
   "source": [
    "from sklearn.metrics import confusion_matrix\n",
    "\n",
    "conf_matrix = confusion_matrix(y_train_5, y_train_pred)\n",
    "print(conf_matrix)"
   ]
  },
  {
   "cell_type": "markdown",
   "id": "aec589e4-aae6-42fa-83d8-858f4e134ab4",
   "metadata": {},
   "source": [
    "### Step 3: Compute Precision and Recall\n",
    "\n",
    "**This means:**\n",
    "\n",
    "- 83.7% of predicted 5s are actually 5s (high precision)\n",
    "- But only 65.1% of actual 5s were detected (lower recall)"
   ]
  },
  {
   "cell_type": "code",
   "execution_count": null,
   "id": "f08a5559-98fd-4324-ab17-46bb1059230f",
   "metadata": {},
   "outputs": [],
   "source": [
    "from sklearn.metrics import precision_score, recall_score\n",
    "\n",
    "precision = precision_score(y_train_5, y_train_pred)\n",
    "recall = recall_score(y_train_5, y_train_pred)\n",
    "\n",
    "print(\"Precision:\", precision)\n",
    "print(\"Recall:\", recall)"
   ]
  }
 ],
 "metadata": {
  "kernelspec": {
   "display_name": "Python 3 (ipykernel)",
   "language": "python",
   "name": "python3"
  },
  "language_info": {
   "codemirror_mode": {
    "name": "ipython",
    "version": 3
   },
   "file_extension": ".py",
   "mimetype": "text/x-python",
   "name": "python",
   "nbconvert_exporter": "python",
   "pygments_lexer": "ipython3",
   "version": "3.12.6"
  }
 },
 "nbformat": 4,
 "nbformat_minor": 5
}
